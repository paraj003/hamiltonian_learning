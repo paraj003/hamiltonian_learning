{
 "cells": [
  {
   "cell_type": "markdown",
   "metadata": {},
   "source": [
    "## Examples of MonteCarlo integrations \n",
    "In this notebook I simulate some examples of monte-carlo integration. I will consider three examples:\n",
    "\\begin{enumerate}\n",
    "\\item Monte Carlo approximation of one dimensional integral\n",
    "\\item Monte-Carlo approximation for $\\pi$\n",
    "\\item Metropolis-Hastings Algorithm\n",
    "\\item Sequential Monte-Carlo for a nonlinear process.\n",
    "\\end{enumerate}"
   ]
  },
  {
   "cell_type": "code",
   "execution_count": 88,
   "metadata": {},
   "outputs": [],
   "source": [
    "import numpy as np\n",
    "import scipy as sp\n",
    "from latex_envs.latex_envs import figcaption\n",
    "from scipy import integrate as int\n",
    "import matplotlib.pyplot as plt"
   ]
  },
  {
   "cell_type": "markdown",
   "metadata": {},
   "source": [
    "## Monte-Carlo approximation of $\\int_0^1 e^x dx$\n",
    "For integration of $f(x)$ from 0 to 1, we need to generate $N$ random numbers in the range $[0,1]$, and then evaluate using the following approximation,\n",
    "\\begin{equation}\n",
    "\\int_0^1 f(x) dx=\\frac{1}{N}\\sum_{i=1}^N f(x_i)\n",
    "\\end{equation}"
   ]
  },
  {
   "cell_type": "code",
   "execution_count": 99,
   "metadata": {},
   "outputs": [],
   "source": [
    "#Monte carlo evaluation\n",
    "numvalsarr=np.array([10,100,1000,10000,100000,1000000,10000000]); #same as N\n",
    "expint_MC=np.zeros(shape=np.size(numvalsarr))\n",
    "count=0\n",
    "for numvals in numvalsarr:\n",
    "    randomvals=np.random.rand(numvals)\n",
    "    expint_MC[count]=np.mean(np.exp(randomvals))\n",
    "    count+=1\n",
    "#integration\n",
    "def f(x):\n",
    "    return np.exp(x)\n",
    "intval=int.quad(f,0,1)"
   ]
  },
  {
   "cell_type": "code",
   "execution_count": 120,
   "metadata": {},
   "outputs": [
    {
     "name": "stdout",
     "output_type": "stream",
     "text": [
      "Integration value = 1.7182818284590453\n",
      "MonteCarlo value = 1.718519492260024\n",
      "Error = -0.00023766380097867135\n"
     ]
    }
   ],
   "source": [
    "print(\"Integration value = {}\".format(intval[0]))\n",
    "print(\"MonteCarlo value = {}\".format(expint_MC[-1]))\n",
    "print(\"Error = {}\".format(intval[0]-expint_MC[-1]))"
   ]
  },
  {
   "cell_type": "code",
   "execution_count": 121,
   "metadata": {},
   "outputs": [
    {
     "data": {
      "text/html": [
       "<div class=caption><b> Caption: </b> Error scaling of monte-carlo integration with number of points. Comparison with preiction of CLT</div>"
      ],
      "text/plain": [
       "<IPython.core.display.HTML object>"
      ]
     },
     "metadata": {},
     "output_type": "display_data"
    },
    {
     "data": {
      "application/json": {
       "caption": "Error scaling of monte-carlo integration with number of points. Comparison with preiction of CLT",
       "label": "fig:Errorscaling"
      }
     },
     "metadata": {
      "application/json": {
       "expanded": false
      }
     },
     "output_type": "display_data"
    },
    {
     "data": {
      "image/png": "[encoded data removed]",
      "text/plain": [
       "<matplotlib.figure.Figure at 0x7f0071f7a940>"
      ]
     },
     "metadata": {},
     "output_type": "display_data"
    }
   ],
   "source": [
    "#check central limit thm :\n",
    "plt.loglog(numvalsarr,np.abs(expint_MC-intval[0]),label='MC')\n",
    "plt.loglog(numvalsarr,np.reciprocal(np.sqrt(numvalsarr)),label='CLT')\n",
    "plt.xlabel('N',fontsize=15)\n",
    "plt.ylabel('Error',fontsize=15)\n",
    "plt.legend()\n",
    "figcaption(\"Error scaling of monte-carlo integration with number of points. Comparison with preiction of CLT\", label=\"fig:Errorscaling\")"
   ]
  },
  {
   "cell_type": "markdown",
   "metadata": {},
   "source": [
    "## Metropolis Hastings algorithm\n",
    "Use this algorithm to sample from a given probability distribution. Example : We have the following target distribution,\n",
    "\\begin{equation}\n",
    "P(x)=\\exp(-x)\\ \\forall x>0\n",
    "\\end{equation}\n",
    "We would like to generate a Markov chain, from a random distribution, assume it is normal distribution with mean $0$ and standard deviation $1$. Then we generate the points, and accept of regect the new point based on an acceptance metric.\n",
    "\n",
    "References for the Algorithm :\n",
    "\\begin{enumerate}\n",
    "\\item Algorithm in R :https://stephens999.github.io/fiveMinuteStats/MH-examples1.html\n",
    "\\item Basics : https://en.wikipedia.org/wiki/Metropolis%E2%80%93Hastings_algorithm\n",
    "\\end{enumerate}"
   ]
  },
  {
   "cell_type": "code",
   "execution_count": 136,
   "metadata": {},
   "outputs": [],
   "source": [
    "#define variables :\n",
    "N=1000 #number of time steps for monte-carlo\n"
   ]
  },
  {
   "cell_type": "code",
   "execution_count": 160,
   "metadata": {},
   "outputs": [],
   "source": [
    "#function definitions \n",
    "#target distribution. the MCMC generates samples from the target distribution.\n",
    "def target(x):\n",
    "    if x<0:\n",
    "        return 0\n",
    "    else:\n",
    "        return np.exp(-x)\n",
    "    \n",
    "def MCMC(Nval,init,σ):\n",
    "    x=np.zeros(Nval) # markov chain\n",
    "    x[1]=init #arbitrary initial value\n",
    "    for p in range(1,Nval):\n",
    "        currentx=x[p-1]\n",
    "        proposedx=np.random.normal(currentx,σ) #normal distributed with a std σ around currentx\n",
    "        A=target(proposedx)/target(currentx)\n",
    "        if np.random.rand(1)<A:\n",
    "            x[p]=proposedx #accept move with probability min(1,A)\n",
    "        else:\n",
    "            x[p]=currentx #reject move\n",
    "    return x\n",
    "                \n",
    "        "
   ]
  },
  {
   "cell_type": "code",
   "execution_count": 202,
   "metadata": {},
   "outputs": [
    {
     "data": {
      "text/plain": [
       "[<matplotlib.lines.Line2D at 0x7f0071af9eb8>]"
      ]
     },
     "execution_count": 202,
     "metadata": {},
     "output_type": "execute_result"
    },
    {
     "data": {
      "image/png": "[encoded data removed]",
      "text/plain": [
       "<matplotlib.figure.Figure at 0x7f0071af9160>"
      ]
     },
     "metadata": {},
     "output_type": "display_data"
    }
   ],
   "source": [
    "#Generates a markov chain which produces points with the target distribution.\n",
    "z1=MCMC(10000,3,1)\n",
    "counts, bins = np.histogram(z1, 50)\n",
    "pdf=counts/(np.sum(counts)*np.abs(bins[1]-bins[2]))\n",
    "width = 0.7 * (bins[1] - bins[0])\n",
    "center = (bins[:-1] + bins[1:]) / 2\n",
    "plt.bar(center, pdf, align='center', width=width,facecolor='y')\n",
    "x1=np.linspace(0,np.ceil(np.max(z1)),100)\n",
    "vtarget = np.vectorize(target)\n",
    "plt.plot(x1,vtarget(x1),'-b')\n",
    "figcaption(\"\")"
   ]
  },
  {
   "cell_type": "markdown",
   "metadata": {},
   "source": [
    "## Likelihood Estimation using Sequential Monte Carlo\n",
    "The goal in this section is to do a toy problem of a sequential monte carlo algorithm in the classical setting. We have two variables $x$ and $y$. $y$ is the observation variable, and $x$ is the 'positions of the particles'. The SMC setup consists of two sets of transition equations : $p(x_t|x_{t-1})$ and $p(y|x_t)$. Let us do the example from [https://www.sas.upenn.edu/~jesusfv/ejemplo.pdf]\n",
    "\\begin{align}\n",
    "x_t&=0.5+0.3\\frac{x_{t-1}}{1+x^2_{t-1}}+w_t\\\\\n",
    "y_t&=x_t+v_t\n",
    "\\end{align}\n",
    "where $w_t\\sim \\mathcal{N}(0,1)$ and $v_t\\sim t(2)$. Note that the first equation corresponds to the transition $p(x_t|x_{t-1})$, and it only depends on the previous step (Markov condition)."
   ]
  },
  {
   "cell_type": "code",
   "execution_count": null,
   "metadata": {},
   "outputs": [],
   "source": []
  }
 ],
 "metadata": {
  "kernelspec": {
   "display_name": "Python 3",
   "language": "python",
   "name": "python3"
  },
  "language_info": {
   "codemirror_mode": {
    "name": "ipython",
    "version": 3
   },
   "file_extension": ".py",
   "mimetype": "text/x-python",
   "name": "python",
   "nbconvert_exporter": "python",
   "pygments_lexer": "ipython3",
   "version": "3.5.2"
  },
  "latex_envs": {
   "LaTeX_envs_menu_present": true,
   "autoclose": false,
   "autocomplete": true,
   "bibliofile": "biblio.bib",
   "cite_by": "apalike",
   "current_citInitial": 1,
   "eqLabelWithNumbers": true,
   "eqNumInitial": 1,
   "hotkeys": {
    "equation": "Ctrl-E",
    "itemize": "Ctrl-I"
   },
   "labels_anchors": false,
   "latex_user_defs": false,
   "report_style_numbering": false,
   "user_envs_cfg": false
  }
 },
 "nbformat": 4,
 "nbformat_minor": 2
}
