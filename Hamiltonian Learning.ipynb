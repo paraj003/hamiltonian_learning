{
 "cells": [
  {
   "cell_type": "code",
   "execution_count": 740,
   "metadata": {},
   "outputs": [
    {
     "name": "stdout",
     "output_type": "stream",
     "text": [
      "Once deleted, variables cannot be recovered. Proceed (y/[n])? y\n"
     ]
    }
   ],
   "source": [
    "%reset"
   ]
  },
  {
   "cell_type": "markdown",
   "metadata": {},
   "source": [
    "## Hamiltonian Learning using Baeysian approach\n",
    "The goal of this notebook is to learn two different Hamiltonians using the baeysian approach. First, we deal with a single qubit Hamitlonian.\n"
   ]
  },
  {
   "cell_type": "code",
   "execution_count": 741,
   "metadata": {},
   "outputs": [],
   "source": [
    "#importing all packages\n",
    "import numpy as np\n",
    "import scipy as sp\n",
    "from latex_envs.latex_envs import figcaption\n",
    "from scipy import integrate as int\n",
    "import matplotlib.pyplot as plt\n",
    "from qutip import *\n",
    "from scipy import linalg"
   ]
  },
  {
   "cell_type": "code",
   "execution_count": 742,
   "metadata": {},
   "outputs": [],
   "source": [
    "#set latex font\n",
    "from matplotlib import rc\n",
    "rc('font',**{'family':'sans-serif','sans-serif':['Helvetica']})\n",
    "## for Palatino and other serif fonts use:\n",
    "#rc('font',**{'family':'serif','serif':['Palatino']})\n",
    "rc('text', usetex=True)"
   ]
  },
  {
   "cell_type": "markdown",
   "metadata": {},
   "source": [
    "## Single Qubit and single frequency\n",
    "\\begin{align}\n",
    "H=\\omega \\sigma_z\n",
    "\\end{align}\n",
    "The goal is to learn the parameter $\\omega$ starting from a guess $\\omega_{\\rm guess}$ with some standard deviation  $\\sigma$."
   ]
  },
  {
   "cell_type": "code",
   "execution_count": 417,
   "metadata": {},
   "outputs": [],
   "source": [
    "#Hamiltonian parameters\n",
    "Nqubits=1\n",
    "ω=0.6\n",
    "Ham=ω*sigmax()"
   ]
  },
  {
   "cell_type": "code",
   "execution_count": 402,
   "metadata": {},
   "outputs": [],
   "source": [
    "#Initial state and Measurement basis\n",
    "ψinit=basis(2,0)\n",
    "projOp=ket2dm(basis(2,0))"
   ]
  },
  {
   "cell_type": "code",
   "execution_count": 423,
   "metadata": {},
   "outputs": [
    {
     "name": "stdout",
     "output_type": "stream",
     "text": [
      "Process terminated at 109 steps\n"
     ]
    }
   ],
   "source": [
    "np.random.seed(23) #set seed\n",
    "precision=10**(-6)\n",
    "nexp=450\n",
    "σ=0.3\n",
    "ωguess=0.9\n",
    "nprt=30\n",
    "a=0.98 #liu-west resampler\n",
    "l=0.5\n",
    "w=1/nprt\n",
    "x_i=np.random.normal(ωguess,σ,nprt)\n",
    "w_i=w*np.ones(nprt)\n",
    "μ=ωguess\n",
    "μarr=[]\n",
    "σarr=[]\n",
    "μarr.append(np.dot(x_i,w_i))\n",
    "σarr.append(np.sum(x_i*x_i*w_i)-μarr[0]**2)\n",
    "σ=σarr[0]\n",
    "x_i_new=np.zeros(nprt)\n",
    "for expchoice in range(0,nexp):\n",
    "    t=1.26/σ\n",
    "    exp_outcome=qSim(Ham,t,ψinit,projOp)\n",
    "    for prtchoice in range(0,nprt):\n",
    "        Hamguess=x_i[prtchoice]*sigmax()\n",
    "        ψTguess=((-1j*t*Hamguess).expm())*ψinit\n",
    "        if exp_outcome==1:\n",
    "            prob_dist=expect(projOp,ψTguess)\n",
    "        else:\n",
    "            prob_dist=1-expect(projOp,ψTguess)\n",
    "        w_i[prtchoice]=w_i[prtchoice]*prob_dist\n",
    "    w_i=w_i/np.sum(w_i)\n",
    "    μ=np.dot(x_i,w_i) #center of mass\n",
    "    Σ=np.sum(w_i*x_i*x_i)-μ**2 #variance\n",
    "    σ=np.sqrt(Σ)\n",
    "    if 1/np.dot(w_i,w_i)<nprt*l:\n",
    "        #print(\"Resampling!\")\n",
    "        Σprime=(1-a**2)*Σ\n",
    "        σprime=np.sqrt(Σprime)\n",
    "        for prtchoice in range(0,nprt):\n",
    "            xIndx = np.random.choice(np.arange(nprt),p=w_i)\n",
    "            μprime=a*x_i[xIndx]+(1-a)*μ\n",
    "            x_i_new[prtchoice]=np.random.normal(μprime,σprime)\n",
    "        x_i=np.copy(x_i_new)    \n",
    "        w_i=(1/nprt)*np.ones(nprt)\n",
    "    μ=np.dot(x_i,w_i) #center of mass\n",
    "    Σ=np.sum(w_i*x_i*x_i)-μ**2 #variance\n",
    "    σ=np.sqrt(Σ)\n",
    "    μarr.append(μ)\n",
    "    σarr.append(σ)\n",
    "    if σ/μ<precision:\n",
    "        print(\"Process terminated at %g steps\"%expchoice)\n",
    "        break"
   ]
  },
  {
   "cell_type": "code",
   "execution_count": 432,
   "metadata": {},
   "outputs": [
    {
     "data": {
      "text/html": [
       "<div class=caption><b> Caption: </b> Estimated frequency as a function of experiments.</div>"
      ],
      "text/plain": [
       "<IPython.core.display.HTML object>"
      ]
     },
     "metadata": {},
     "output_type": "display_data"
    },
    {
     "data": {
      "application/json": {
       "caption": "Estimated frequency as a function of experiments.",
       "label": " "
      }
     },
     "metadata": {
      "application/json": {
       "expanded": false
      }
     },
     "output_type": "display_data"
    },
    {
     "data": {
      "image/png": "[encoded data removed]",
      "text/plain": [
       "<matplotlib.figure.Figure at 0x7f6f5d78e400>"
      ]
     },
     "metadata": {},
     "output_type": "display_data"
    }
   ],
   "source": [
    "plt.errorbar(range(len(μarr)),μarr,yerr=σarr,label=\"Estimated\")\n",
    "plt.plot(range(len(μarr)),ω*np.ones(len(μarr)),'--r',label='Exact')\n",
    "plt.xlabel('Experiments',fontsize=15)\n",
    "plt.ylabel('Estimated $\\\\omega$',fontsize=15)\n",
    "plt.legend()\n",
    "figcaption('Estimated frequency as a function of experiments.')"
   ]
  },
  {
   "cell_type": "markdown",
   "metadata": {},
   "source": [
    "## Single Qubit, Multiple parameters\n",
    "Now, Let us try to estimate,\n",
    "\\begin{align}\n",
    "H=h_x \\sigma_x+h_y \\sigma_y+h_z \\sigma_z\n",
    "\\end{align}"
   ]
  },
  {
   "cell_type": "code",
   "execution_count": 798,
   "metadata": {},
   "outputs": [],
   "source": [
    "#Exact Hamiltonian parameters\n",
    "keylist=['hx','hy','hz']\n",
    "ham_params={'hx':0.4,'hy':0.7,'hz':0.9}\n",
    "Ham=ham_params['hx']*sigmax()+ham_params['hy']*sigmay()+ham_params['hz']*sigmaz()"
   ]
  },
  {
   "cell_type": "code",
   "execution_count": 799,
   "metadata": {},
   "outputs": [],
   "source": [
    "#Initial state and Measurement basis\n",
    "ψinit=rand_ket(2)#basis(2,0) \n",
    "projOp=ket2dm(basis(2,0))\n",
    "projOplist=[ket2dm((basis(2,0)+basis(2,1))/np.sqrt(2)),ket2dm((basis(2,0)+1j*basis(2,1))/np.sqrt(2)),ket2dm(basis(2,0))]"
   ]
  },
  {
   "cell_type": "code",
   "execution_count": 803,
   "metadata": {},
   "outputs": [
    {
     "name": "stdout",
     "output_type": "stream",
     "text": [
      "Resampling count=16\n"
     ]
    }
   ],
   "source": [
    "np.random.seed(10) #set seed\n",
    "precision=10**(-6)\n",
    "nexp=400\n",
    "nprt=100\n",
    "a=0.98 #liu-west resampler\n",
    "l=0.5\n",
    "σdict={'hx':0.3,'hy':0.3,'hz':0.3} # stddev of initial distributions\n",
    "params_guess={'hx':0.5,'hy':0.5,'hz':0.7}\n",
    "\n",
    "if len(params_guess)!=len(keylist):\n",
    "    print(\"Define the correct number of variables in keylist and parmas_guess\")\n",
    "xvec={key:np.random.normal(params_guess[key],σdict[key],nprt) for key in keylist} #generates a dictionary of lists\n",
    "w=1/nprt #weights initialized\n",
    "w_i=w*np.ones(nprt)\n",
    "μdict={key : [] for key in keylist}\n",
    "σdict={key : [] for key in keylist}\n",
    "for key in keylist:\n",
    "    μtemp=np.dot(xvec[key],w_i)\n",
    "    σtemp=np.sqrt(np.dot(w_i,xvec[key]**2)-μtemp**2)\n",
    "    μdict[key].append(μtemp) \n",
    "    σdict[key].append(σtemp)\n",
    "σ={key : σdict[key][0] for key in keylist}\n",
    "μ={key : μdict[key][0] for key in keylist}\n",
    "\n",
    "resamplecount=0\n",
    "for expchoice in range(0,nexp):\n",
    "    print(expchoice, end='\\r', flush=True)\n",
    "    ψinit=rand_ket(2)\n",
    "    projOp=projOplist[np.random.randint(3)]\n",
    "    t=optmized_suggestion(xvec,σ)  \n",
    "    exp_outcome=qSim(Ham,t,ψinit,projOp)\n",
    "    for prtchoice in range(0,nprt):\n",
    "        Hamguess=xvec['hx'][prtchoice]*sigmax()+xvec['hy'][prtchoice]*sigmay()+xvec['hz'][prtchoice]*sigmaz()\n",
    "        prob_dist=clSim(Hamguess,t,ψinit,projOp,exp_outcome) \n",
    "        w_i[prtchoice]=w_i[prtchoice]*prob_dist #Bayesian update\n",
    "    w_i=w_i/np.sum(w_i)\n",
    "    if 1/np.dot(w_i,w_i)<nprt*l:\n",
    "        xvec,w_i=resample(xvec,w_i,keylist,a)\n",
    "        resamplecount+=1\n",
    "    μ,σ=meanstd(xvec,w_i,keylist)    \n",
    "    {key : μdict[key].append(μ[key])   for key in keylist}\n",
    "    {key : σdict[key].append(σ[key])   for key in keylist}\n",
    "    #precision test\n",
    "    σmaxkey=max(σ,key=σ.get) #max std dev\n",
    "    if np.abs(σ[σmaxkey]/μ[σmaxkey])<precision:\n",
    "        print(\"Process terminated at %g steps\"%expchoice)\n",
    "        break\n",
    "print(\"Resampling count=%g\"%resamplecount)"
   ]
  },
  {
   "cell_type": "code",
   "execution_count": 804,
   "metadata": {},
   "outputs": [
    {
     "data": {
      "image/png": "[encoded data removed]",
      "text/plain": [
       "<matplotlib.figure.Figure at 0x7f6f5f96a400>"
      ]
     },
     "metadata": {},
     "output_type": "display_data"
    }
   ],
   "source": [
    "fig=plt.figure(figsize=(20,5))\n",
    "count=0\n",
    "for key in keylist:\n",
    "    count+=1\n",
    "    plt.subplot(1,len(keylist),count)\n",
    "    plt.errorbar(range(len(μdict[key])),μdict[key],yerr=σdict[key],label=\"Estimated\")\n",
    "    plt.plot(range(len(μdict[key])),ham_params[key]*np.ones(len(μdict[key])),'--r',linewidth=2,label='Exact')\n",
    "    plt.xlabel('Experiments',fontsize=15)\n",
    "    plt.ylabel('Estimated $\\\\omega$',fontsize=15)\n",
    "    plt.legend()\n",
    "    plt.title('Estimate for %s'%key)"
   ]
  },
  {
   "cell_type": "code",
   "execution_count": 544,
   "metadata": {},
   "outputs": [
    {
     "name": "stdout",
     "output_type": "stream",
     "text": [
      "Estimate for hx\n"
     ]
    }
   ],
   "source": [
    "key='hx'\n",
    "print('Estimate for %s'%key)"
   ]
  },
  {
   "cell_type": "code",
   "execution_count": 644,
   "metadata": {},
   "outputs": [
    {
     "data": {
      "text/plain": [
       "dict"
      ]
     },
     "execution_count": 644,
     "metadata": {},
     "output_type": "execute_result"
    }
   ],
   "source": [
    "type(xvec)"
   ]
  },
  {
   "cell_type": "markdown",
   "metadata": {},
   "source": [
    "## Function Definitions \n",
    "Listing all the functions defined to be called in the different sections.\n",
    "\\begin{itemize}\n",
    "\\item qSim(Hamiltonian,time,initial state,measured_operator): \n",
    "        where Hamiltonian, initial state and measured_operator are all qutip objects\n",
    "\\end{itemize}\n"
   ]
  },
  {
   "cell_type": "code",
   "execution_count": 746,
   "metadata": {},
   "outputs": [],
   "source": [
    "def qSim(H,t,init,proj):\n",
    "    u = (-1j*t*H).expm()\n",
    "    psiT = u*init\n",
    "    pMeasure = expect(proj,psiT)\n",
    "    return np.random.binomial(1,pMeasure)"
   ]
  },
  {
   "cell_type": "code",
   "execution_count": 747,
   "metadata": {},
   "outputs": [],
   "source": [
    "def clSim(H,t,init,proj,exp_outcome):\n",
    "    ψTguess=((-1j*t*H).expm())*init\n",
    "    if exp_outcome==1:\n",
    "        prob_dist=expect(proj,ψTguess)\n",
    "    else:\n",
    "        prob_dist=1-expect(proj,ψTguess)\n",
    "    return prob_dist"
   ]
  },
  {
   "cell_type": "code",
   "execution_count": 748,
   "metadata": {},
   "outputs": [],
   "source": [
    "def optmized_suggestion(x_i,σ):\n",
    "    #Use particle guess heurestic\n",
    "    #x_i and \\sigma are dictionaries with the new variables\n",
    "    t=1.26/σ['hx']#[max(σ,key=σ.get)]\n",
    "    #t=\n",
    "    return t\n",
    "    "
   ]
  },
  {
   "cell_type": "code",
   "execution_count": 749,
   "metadata": {},
   "outputs": [],
   "source": [
    "def meanstd(xvec,w_i,keylist):\n",
    "    σ={}\n",
    "    μ={}\n",
    "    for key in keylist:\n",
    "        μtemp=np.dot((xvec[key]),w_i)\n",
    "        σtemp=np.sqrt(np.dot(w_i,(xvec[key])**2)-μtemp**2)\n",
    "        μ.update({key : μtemp}) #center of mass\n",
    "        σ.update({key : σtemp})\n",
    "    return (μ,σ)"
   ]
  },
  {
   "cell_type": "code",
   "execution_count": 772,
   "metadata": {},
   "outputs": [],
   "source": [
    "def resample(xvec,w_i,keylist,a):\n",
    "    #print(\"Resampling!\")\n",
    "    μ,σ=meanstd(xvec,w_i,keylist)\n",
    "    σprime={key : np.sqrt((1-a*a))*σ[key] for key in keylist}\n",
    "    xvec_new={key : np.empty(nprt) for key in keylist}\n",
    "    for prtchoice in range(0,nprt):\n",
    "        xIndx = np.random.choice(np.arange(nprt),p=w_i)\n",
    "        μprime={key : a*xvec[key][xIndx]+(1-a)*μ[key] for key in keylist}\n",
    "        for key in keylist:\n",
    "            xvec_new[key][prtchoice]=np.random.normal(μprime[key],σprime[key])   \n",
    "    w_i_new=(1/nprt)*np.ones(nprt)\n",
    "    return (xvec_new,w_i_new)"
   ]
  },
  {
   "cell_type": "code",
   "execution_count": null,
   "metadata": {},
   "outputs": [],
   "source": []
  }
 ],
 "metadata": {
  "kernelspec": {
   "display_name": "Python 3",
   "language": "python",
   "name": "python3"
  },
  "language_info": {
   "codemirror_mode": {
    "name": "ipython",
    "version": 3
   },
   "file_extension": ".py",
   "mimetype": "text/x-python",
   "name": "python",
   "nbconvert_exporter": "python",
   "pygments_lexer": "ipython3",
   "version": "3.5.2"
  },
  "latex_envs": {
   "LaTeX_envs_menu_present": true,
   "autoclose": false,
   "autocomplete": true,
   "bibliofile": "biblio.bib",
   "cite_by": "apalike",
   "current_citInitial": 1,
   "eqLabelWithNumbers": true,
   "eqNumInitial": 1,
   "hotkeys": {
    "equation": "Ctrl-E",
    "itemize": "Ctrl-I"
   },
   "labels_anchors": false,
   "latex_user_defs": false,
   "report_style_numbering": false,
   "user_envs_cfg": false
  }
 },
 "nbformat": 4,
 "nbformat_minor": 2
}
